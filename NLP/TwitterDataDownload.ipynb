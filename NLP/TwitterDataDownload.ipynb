{
 "cells": [
  {
   "cell_type": "code",
   "execution_count": 7,
   "metadata": {
    "id": "qoYbVRPlE2OJ"
   },
   "outputs": [],
   "source": [
    "# Importing important libraries\n",
    "import tweepy\n",
    "from tweepy import OAuthHandler\n",
    "from tweepy import API\n",
    "from tweepy import Cursor\n",
    "from datetime import datetime, date, time, timedelta\n",
    "from collections import Counter\n",
    "import sys\n",
    "import os\n",
    "import jsonpickle\n",
    "import json\n",
    "import re\n",
    "import pandas as pd"
   ]
  },
  {
   "cell_type": "code",
   "execution_count": 8,
   "metadata": {
    "id": "pD-B-uq6FAva"
   },
   "outputs": [],
   "source": [
    "# Saving API keys and access tokens in variable\n",
    "consumer_key=\"BrlbxNbJpoqxquaLmaQTjwTQr\"\n",
    "consumer_secret=\"qC6F2XDrKf1e7cudsoXp3PtyRde0eHWpigytNkNmRBP91v1PQ6\"\n",
    "access_token=\"1664121508891881474-KDPrt17IafcfWvbZJxXujI4Pqj649W\"\n",
    "access_token_secret=\"HOKP23i9Y7n9SJ2iZvkNzBlKlt8TgFhSpQnkNa6qDS9Jo\"\n",
    "\n",
    "auth = OAuthHandler(consumer_key, consumer_secret)\n",
    "auth.set_access_token(access_token, access_token_secret)\n",
    "auth_api = API(auth)"
   ]
  },
  {
   "cell_type": "code",
   "execution_count": null,
   "metadata": {
    "id": "RBREso5Yqi13"
   },
   "outputs": [],
   "source": [
    "# For Downloading Tweets by username\n",
    "tweets = auth_api.user_timeline(screen_name='dhelnore', q= 'Airlines', count=500, lang = 'en',\n",
    "                           tweet_mode='extended')\n",
    "\n",
    "# create DataFrame\n",
    "columns = ['TweetId', 'User', 'Tweet']\n",
    "data = []\n",
    "\n",
    "for tweet in tweets:\n",
    "    data.append([tweet.id, tweet.user.screen_name, tweet.full_text])\n",
    "\n",
    "df = pd.DataFrame(data, columns=columns)\n",
    "\n",
    "print(df)"
   ]
  },
  {
   "cell_type": "code",
   "execution_count": null,
   "metadata": {
    "id": "ZLFAAzrYqooD"
   },
   "outputs": [],
   "source": [
    "# For Downloading Tweets by topic\n",
    "# Extracting tweets for a topic by manually submitting the topic in code\n",
    "# Using tweepy.Cursor() we will fetch the tweets for the Topic we selected\n",
    "tweetCount = 0;\n",
    "\n",
    "with open('DirichletTweets.json','w') as f:\n",
    "  for tweet in tweepy.Cursor(auth_api.search_tweets, q=\"Airlines\", lang=\"en\").items():\n",
    "    tweety = jsonpickle.encode(tweet._json, unpicklable=False)\n",
    "    f.write(jsonpickle.encode(tweet._json, unpicklable=False) + '\\n')\n",
    "    tweetCount += 1\n",
    "\n",
    "    if tweetCount == 500:\n",
    "      break\n",
    "\n",
    "print(\"Downloaded {0} tweets\".format(tweetCount))"
   ]
  }
 ],
 "metadata": {
  "colab": {
   "provenance": []
  },
  "kernelspec": {
   "display_name": "Python 3",
   "language": "python",
   "name": "python3"
  },
  "language_info": {
   "codemirror_mode": {
    "name": "ipython",
    "version": 3
   },
   "file_extension": ".py",
   "mimetype": "text/x-python",
   "name": "python",
   "nbconvert_exporter": "python",
   "pygments_lexer": "ipython3",
   "version": "3.8.5"
  }
 },
 "nbformat": 4,
 "nbformat_minor": 1
}
